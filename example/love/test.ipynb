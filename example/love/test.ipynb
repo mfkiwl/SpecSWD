{
 "cells": [
  {
   "cell_type": "code",
   "execution_count": 1,
   "metadata": {},
   "outputs": [],
   "source": [
    "import numpy as np \n",
    "import matplotlib.pyplot as plt \n",
    "from numba import jit "
   ]
  },
  {
   "cell_type": "code",
   "execution_count": 2,
   "metadata": {},
   "outputs": [],
   "source": [
    "@jit(nopython=True)\n",
    "def legendre(n,x):\n",
    "    leg = 1.\n",
    "    if n == 0:\n",
    "        leg = 1\n",
    "    elif n==1:\n",
    "        leg = x\n",
    "    else:\n",
    "        leg_down1 = x; leg_down2 = 1.\n",
    "        for i in range(2,n+1):\n",
    "            leg = (2*i-1)*x*leg_down1/i - (i-1)*leg_down2/i\n",
    "            leg_down2 = leg_down1\n",
    "            leg_down1 = leg\n",
    "\n",
    "    return leg\n",
    "\n",
    "@jit(nopython=True)\n",
    "def dlegendre(n,x):\n",
    "    dleg = 0.\n",
    "    if n == 0:\n",
    "        dleg = 0.\n",
    "    elif n == 1:\n",
    "        dleg = 1.\n",
    "    else:\n",
    "        leg_down1 = x; leg_down2 = 1.\n",
    "        dleg_down1 = 1.; dleg_down2 = 0.\n",
    "        for i in range(2,n+1):\n",
    "            leg = (2*i-1)*x*leg_down1/i - (i-1)*leg_down2/i\n",
    "            dleg = dleg_down2 + (2*i-1)*leg_down1\n",
    "            leg_down2 = leg_down1\n",
    "            leg_down1 = leg\n",
    "            dleg_down2 = dleg_down1\n",
    "            dleg_down1 = dleg\n",
    "\n",
    "    return dleg\n",
    "\n",
    "@jit(nopython=True)\n",
    "def gauss_legendre_lobatto(length:int):\n",
    "    #// define some constants\n",
    "    tolerance = 4.0 * 1.0e-6\n",
    "    nnewton_iter = 100\n",
    "    pi = np.pi\n",
    "    \n",
    "    # allocate space\n",
    "    n = length - 1; #// order of polynomial\n",
    "    x = np.array([0.0 for i in range(length)])\n",
    "    w = x * 1.\n",
    "    if n == 1:\n",
    "        x[0] = -1.; x[1] = 1.\n",
    "        w[0] = 1.; w[1] = 1.\n",
    "    else:\n",
    "        leg = 0.; dleg = 0.; delta = 0.\n",
    "        # set end points\n",
    "        x[0]   = -1.0; x[n] = 1.\n",
    "        w[0]   =  2./(n*(n+1.)); w[n] =  2./(n*(n+1.))\n",
    "\n",
    "        for i in range(1,(n+1)//2):\n",
    "            #// initial guess from an approximate form given by SV Parter (1999)\n",
    "            x[i] = -np.cos( (i+0.25)*pi/n  - 3/(8*n*pi*(i+0.25)))\n",
    "\n",
    "            #// newton iteration\n",
    "            for j in range(nnewton_iter):\n",
    "                leg = legendre(n+1,x[i]) - legendre(n-1,x[i])\n",
    "                dleg = dlegendre(n+1,x[i]) - dlegendre(n-1,x[i])\n",
    "                delta = -leg/dleg\n",
    "                x[i] += delta\n",
    "                if (np.abs(delta) <= tolerance * np.abs(x[i]) ): break\n",
    "            \n",
    "            x[n-i] = - x[i]\n",
    "            leg = legendre(n, x[i])\n",
    "            w[i] = 2./(n*(n+1.)*leg*leg)\n",
    "            w[n-i] = w[i]\n",
    "\n",
    "        if n %2 == 0 :\n",
    "            x[n//2] = 0.\n",
    "            leg = legendre(n, 0.0)\n",
    "            w[n//2]  = 2./(n*(n+1.)*leg*leg)\n",
    "    \n",
    "\n",
    "    return x,w\n",
    "\n",
    "@jit(nopython=True)\n",
    "def lagrange_poly(xi,xctrl):\n",
    "    nctrl = len(xctrl)\n",
    "    hprime = np.array([0.0 for i in range(nctrl)])\n",
    "    h = hprime * 1.0\n",
    "\n",
    "    #! note: this routine is hit pretty hard by the mesher, optimizing the loops here will be beneficial\n",
    "    for dgr in range(nctrl):\n",
    "        prod1 = 1.; prod2 = 1.\n",
    "\n",
    "        #// lagrangian interpolants\n",
    "        x0 = xctrl[dgr]\n",
    "        for i in range(nctrl):\n",
    "            if i != dgr:\n",
    "                x = xctrl[i]\n",
    "                prod1 = prod1*(xi-x)\n",
    "                prod2 = prod2*(x0-x)\n",
    "\n",
    "        #//! takes inverse to avoid additional divisions\n",
    "        #//! (multiplications are cheaper than divisions)\n",
    "        prod2_inv = 1. / prod2\n",
    "        h[dgr] = prod1 * prod2_inv\n",
    "\n",
    "        #// first derivatives\n",
    "        s = 0.0\n",
    "        for i in range(nctrl):\n",
    "            if i != dgr :\n",
    "                prod3 = 1.0\n",
    "                for j in range(nctrl):\n",
    "                    if j != dgr and j != i:\n",
    "                        prod3 = prod3*(xi-xctrl[j])\n",
    "                s = s + prod3\n",
    "        hprime[dgr] = s * prod2_inv\n",
    "    \n",
    "\n",
    "    return h,hprime\n",
    "\n",
    "\n",
    "def init_gll_arrays(NGLLX):\n",
    "\n",
    "    # gll points and weights\n",
    "    xgll,wxgll = gauss_legendre_lobatto(NGLLX)\n",
    "\n",
    "    #// derivative, hprimex[i][j] = l_j'(xi_i)\n",
    "    hprimex = np.zeros((NGLLX,NGLLX))\n",
    "    for i in range(NGLLX):\n",
    "        _,hprimex[i,:] = lagrange_poly(xgll[i],xgll)\n",
    "\n",
    "    #// hprimex_wgllx[i,j] = hprime_x[i,j] * wx[i] \n",
    "    hprimex_wgllx = np.zeros((NGLLX,NGLLX))\n",
    "    for i in range(NGLLX):\n",
    "        for j in range(NGLLX):\n",
    "            hprimex_wgllx[i,j] = hprimex[i,j] * wxgll[i]\n",
    "\n",
    "\n",
    "    return xgll,wxgll,hprimex,hprimex_wgllx\n",
    "\n"
   ]
  },
  {
   "cell_type": "code",
   "execution_count": 3,
   "metadata": {},
   "outputs": [],
   "source": [
    "@jit(nopython=True)\n",
    "def get_Q_sls_model(Q):\n",
    "\n",
    "    y_sls_ref = np.array([1.93044501, 1.64217132, 1.73606189, 1.42826439, 1.66934129])\n",
    "    w_sls_ref = np.array([4.71238898e-02, 6.63370885e-01, 9.42477796e+00, 1.14672436e+02,1.05597079e+03])\n",
    "    dy = y_sls_ref * 0 \n",
    "    y = y_sls_ref * 0\n",
    "    NSLS = len(y)\n",
    "\n",
    "    for i in range(NSLS):\n",
    "        y[i] = y_sls_ref[i] / Q \n",
    "    dy[0] = 1. + 0.5 * y[0]\n",
    "\n",
    "    for i in range(1,NSLS):\n",
    "        dy[i] = dy[i-1] + (dy[i-1] - 0.5) * y[i-1] + 0.5 * y[i]\n",
    "\n",
    "    #// copy to y_sls/w_sls\n",
    "    w_sls = w_sls_ref * 1. \n",
    "    y_sls = dy * y \n",
    "\n",
    "    return w_sls,y_sls \n",
    "\n",
    "@jit(nopython=True)\n",
    "def compute_q_sls_model(y_sls,w_sls,om,exact=False):\n",
    "    Q_ls = 1. \n",
    "    nsls = len(y_sls)\n",
    "    if exact:\n",
    "        for p in range(nsls):\n",
    "            Q_ls += y_sls[p] * om**2 / (om**2 + w_sls[p]**2)\n",
    "\n",
    "    # denom\n",
    "    Q_demon = 0.\n",
    "    for p in range(nsls):\n",
    "        Q_demon += y_sls[p] * om * w_sls[p] / (om**2 + w_sls[p]**2)\n",
    "    \n",
    "    return Q_ls / Q_demon\n",
    "@jit(nopython=True)\n",
    "def get_sls_modulus_factor(freq,Q):\n",
    "    om = 2 * np.pi * freq\n",
    "\n",
    "    w_sls,y_sls = get_Q_sls_model(Q)\n",
    "    s = np.sum(1j * om * y_sls / (w_sls + 1j * om))\n",
    "\n",
    "    return s + 1.\n",
    "\n",
    "@jit(nopython=True)\n",
    "def get_sls_Q_deriv(freq,Q):\n",
    "    y_sls_ref = np.array([1.93044501, 1.64217132, 1.73606189, 1.42826439, 1.66934129])\n",
    "    w_sls_ref = np.array([4.71238898e-02, 6.63370885e-01, 9.42477796e+00, 1.14672436e+02,1.05597079e+03])\n",
    "    dy = y_sls_ref * 0 \n",
    "    y = y_sls_ref  / Q \n",
    "\n",
    "    # corrector\n",
    "    NSLS = len(y_sls_ref)\n",
    "    dy[0] = 1. + 0.5 * y[0]\n",
    "    for i in range(1,NSLS):\n",
    "        dy[i] = dy[i-1] + (dy[i-1] - 0.5) * y[i-1] + 0.5 * y[i]\n",
    "    dd_dqi = dy * 0\n",
    "    dd_dqi[0] = 0.5 * y_sls_ref[0]\n",
    "    for i in range(1,NSLS):\n",
    "        dd_dqi[i] = dd_dqi[i-1] + (dy[i-1] - 0.5) * y_sls_ref[i-1] + dd_dqi[i-1] * y[i-1] +  0.5 * y_sls_ref[i]\n",
    "        \n",
    "    dd_dqi = dd_dqi * y + dy * y_sls_ref\n",
    "    om = 2 * np.pi * freq\n",
    "    dsdqi = np.sum(1j * om * dd_dqi /(w_sls_ref + 1j * om))\n",
    "    s = np.sum(1j * om * y * dy / (w_sls_ref + 1j * om))\n",
    "\n",
    "    return s + 1., dsdqi"
   ]
  },
  {
   "cell_type": "code",
   "execution_count": 35,
   "metadata": {},
   "outputs": [],
   "source": [
    "@jit(nopython=True)\n",
    "def assemble_matrix_diag(P,Qp,nspec,NGLL,NGRL,ibool,wgll,wgrl,jaco):\n",
    "    nglob = np.max(ibool) + 1\n",
    "    M = np.zeros((nglob),dtype=np.complex128)\n",
    "\n",
    "    for ispec in range(nspec + 1):\n",
    "        NGL = NGLL\n",
    "        if ispec == nspec:\n",
    "            wg = wgrl * 1.\n",
    "            NGL = NGRL\n",
    "        else:\n",
    "            wg = wgll * 1.\n",
    "\n",
    "        for i in range(NGL):\n",
    "            ig = ibool[ispec*NGLL+i]\n",
    "            sp = get_sls_modulus_factor(1.,Qp[ispec*NGLL+i])\n",
    "            M[ig] += jaco[ispec] * wg[i] * P[ispec*NGLL+i] * sp \n",
    "    \n",
    "    return M \n",
    "\n",
    "@jit(nopython=True)\n",
    "def assemble_matrix_diag_fd(P,Qp,nspec,NGLL,NGRL,ibool,wgll,wgrl,jaco,x,y,coef):\n",
    "    dm = P * 0.0j\n",
    "    for ispec in range(nspec + 1):\n",
    "        NGL = NGLL\n",
    "        if ispec == nspec:\n",
    "            NGL = NGRL\n",
    "        \n",
    "        for i in range(NGL):\n",
    "            id = ispec * NGLL + i\n",
    "            p = P[id] * 1. \n",
    "            dx = 0.01\n",
    "            P[id] = p * (1 + dx)\n",
    "            M = assemble_matrix_diag(P,Qp,nspec,NGLL,NGRL,ibool,wgll,wgrl,jaco)\n",
    "            s1 = np.sum(y * M * x)\n",
    "\n",
    "            P[id] = p * (1 - dx)\n",
    "            M = assemble_matrix_diag(P,Qp,nspec,NGLL,NGRL,ibool,wgll,wgrl,jaco)\n",
    "            s2 = np.sum(y * M * x)\n",
    "\n",
    "            dm[id] = (s1 - s2) / (p * dx * 2)\n",
    "\n",
    "            # recover\n",
    "            P[id] = p * 1. \n",
    "    \n",
    "    return dm * coef\n",
    "\n",
    "\n",
    "@jit(nopython=True)\n",
    "def assemble_matrix_diag_deriv(Qp,nspec,NGLL,NGRL,ibool,wgll,wgrl,jaco,x,y,coef):\n",
    "    dM = Qp * 0.0j\n",
    "\n",
    "    # element\n",
    "    xe = np.zeros((NGRL),dtype=np.complex128)\n",
    "    ye = np.zeros((NGRL),dtype=np.complex128)\n",
    "\n",
    "    for ispec in range(nspec + 1):\n",
    "        NGL = NGLL\n",
    "        if ispec == nspec:\n",
    "            wg = wgrl * 1.\n",
    "            NGL = NGRL\n",
    "        else:\n",
    "            wg = wgll * 1.\n",
    "\n",
    "        for i in range(NGL):\n",
    "            ig = ibool[ispec*NGLL+i]\n",
    "            xe[i] = x[ig]\n",
    "            ye[i] = y[ig]\n",
    "\n",
    "        # compute \n",
    "        for k in range(NGL):\n",
    "            sp = get_sls_modulus_factor(1.,Qp[ispec*NGLL+k])\n",
    "            dM[ispec*NGLL+k] =  wg[k] * jaco[ispec] * xe[k] * ye[k] * sp * coef\n",
    "    \n",
    "    return dM"
   ]
  },
  {
   "cell_type": "code",
   "execution_count": 37,
   "metadata": {},
   "outputs": [
    {
     "data": {
      "text/plain": [
       "True"
      ]
     },
     "execution_count": 37,
     "metadata": {},
     "output_type": "execute_result"
    }
   ],
   "source": [
    "# read mesh\n",
    "from scipy.io import FortranFile\n",
    "fio = FortranFile(\"mesh.bin\",\"r\")\n",
    "ibool = fio.read_ints('i4')\n",
    "jaco = fio.read_reals('f8')\n",
    "xN = fio.read_reals('f8')\n",
    "xQN = fio.read_reals('f8')\n",
    "wgll = fio.read_reals('f8')\n",
    "wgrl = fio.read_reals('f8')\n",
    "nspec = len(jaco) - 1\n",
    "NGLL = len(wgll)\n",
    "NGRL = len(wgrl)\n",
    "\n",
    "fio.close()\n",
    "\n",
    "np.random.seed(10)\n",
    "nglob = np.max(ibool) + 1 \n",
    "x = np.random.rand(nglob) + np.random.rand(nglob) * 1.0j\n",
    "y = x * 1.0\n",
    "coef = 1.04 + 0.04j\n",
    "dM = assemble_matrix_diag_fd(xN,xQN,nspec,NGLL,NGRL,ibool,wgll,wgrl,jaco,x,y,coef)\n",
    "dM1 = assemble_matrix_diag_deriv(xQN,nspec,NGLL,NGRL,ibool,wgll,wgrl,jaco,x,y,coef)\n",
    "\n",
    "np.allclose(dM,dM1)"
   ]
  },
  {
   "cell_type": "code",
   "execution_count": 20,
   "metadata": {},
   "outputs": [],
   "source": [
    "import numpy as np \n",
    "from scipy.linalg.lapack import dsygv\n",
    "from scipy.linalg import qz,eigh"
   ]
  },
  {
   "cell_type": "code",
   "execution_count": 3,
   "metadata": {},
   "outputs": [],
   "source": [
    "np.random.seed(5)\n",
    "A = np.random.rand(2,2)\n",
    "A = 0.5 * (A + A.T)\n",
    "B = np.array([[1.,0.5],[0.5,1.2]])"
   ]
  },
  {
   "cell_type": "code",
   "execution_count": 21,
   "metadata": {},
   "outputs": [],
   "source": [
    "w,Z = eigh(A,B)\n",
    "AA,BB,QQ,ZZ = qz(A,B)"
   ]
  },
  {
   "cell_type": "code",
   "execution_count": 23,
   "metadata": {},
   "outputs": [
    {
     "data": {
      "text/plain": [
       "array([[-1.10576244,  0.2011152 ],\n",
       "       [ 0.62408673,  0.81433859]])"
      ]
     },
     "metadata": {},
     "output_type": "display_data"
    },
    {
     "data": {
      "text/plain": [
       "array([[0.78757376, 2.44394418],\n",
       "       [0.78757376, 1.0694194 ]])"
      ]
     },
     "metadata": {},
     "output_type": "display_data"
    }
   ],
   "source": [
    "display(Z)\n",
    "display(ZZ/ Z)"
   ]
  },
  {
   "cell_type": "code",
   "execution_count": 33,
   "metadata": {},
   "outputs": [
    {
     "data": {
      "text/plain": [
       "array([-0.15829405,  0.03909349])"
      ]
     },
     "execution_count": 33,
     "metadata": {},
     "output_type": "execute_result"
    }
   ],
   "source": [
    "A @ ZZ[:,1] - w[1] * B @ ZZ[:,1]"
   ]
  },
  {
   "cell_type": "code",
   "execution_count": 32,
   "metadata": {},
   "outputs": [
    {
     "data": {
      "text/plain": [
       "1.0"
      ]
     },
     "execution_count": 32,
     "metadata": {},
     "output_type": "execute_result"
    }
   ],
   "source": [
    "np.linalg.norm(ZZ[:,0])"
   ]
  },
  {
   "cell_type": "code",
   "execution_count": 35,
   "metadata": {},
   "outputs": [
    {
     "data": {
      "text/plain": [
       "(array([0.59009805, 1.60990195]),\n",
       " array([[-0.77334214,  0.63398891],\n",
       "        [ 0.63398891,  0.77334214]]))"
      ]
     },
     "execution_count": 35,
     "metadata": {},
     "output_type": "execute_result"
    }
   ],
   "source": [
    "eigh(B)"
   ]
  },
  {
   "cell_type": "code",
   "execution_count": 1,
   "metadata": {},
   "outputs": [],
   "source": [
    "import numpy as np "
   ]
  },
  {
   "cell_type": "code",
   "execution_count": 3,
   "metadata": {},
   "outputs": [],
   "source": [
    "def lovefunc(c,r1,r2,N1,N2,L1,L2,H,om):\n",
    "    gamma2 = np.sqrt((1 - r2 * c**2/N2) * N2/L2)\n",
    "    Omega = om/c * H * gamma2 * (\n",
    "                ((r1 * c**2 - N1) / (N2 - r2 / r1 * N1)) +\n",
    "                (L2 / L1) * ((N2 - r2*c**2) / (N2 - r2/r1 * N1))\n",
    "            )\n",
    "    u = N1 / (c * r1) * ( c**2 * r1 / N1 + Omega) / ( 1 + Omega)\n",
    "    dcc_dcL2=N1*(-1/2*H*om*np.sqrt(N2*(1 - c**2*r2/N2)/L2)*((-N1 + c**2*r1)/(-N1*r2/r1 + N2) + L2*(N2 - c**2*r2)/(L1*(-N1*r2/r1 + N2)))/(L2*c) + H*om*np.sqrt(N2*(1 - c**2*r2/N2)/L2)*(N2 - c**2*r2)/(L1*c*(-N1*r2/r1 + N2)))/(c*r1*(H*om*np.sqrt(N2*(1 - c**2*r2/N2)/L2)*((-N1 + c**2*r1)/(-N1*r2/r1 + N2) + L2*(N2 - c**2*r2)/(L1*(-N1*r2/r1 + N2)))/c + 1)) + N1*(H*om*np.sqrt(N2*(1 - c**2*r2/N2)/L2)*((-N1 + c**2*r1)/(-N1*r2/r1 + N2) + L2*(N2 - c**2*r2)/(L1*(-N1*r2/r1 + N2)))/c + c**2*r1/N1)*((1/2)*H*om*np.sqrt(N2*(1 - c**2*r2/N2)/L2)*((-N1 + c**2*r1)/(-N1*r2/r1 + N2) + L2*(N2 - c**2*r2)/(L1*(-N1*r2/r1 + N2)))/(L2*c) - H*om*np.sqrt(N2*(1 - c**2*r2/N2)/L2)*(N2 - c**2*r2)/(L1*c*(-N1*r2/r1 + N2)))/(c*r1*(H*om*np.sqrt(N2*(1 - c**2*r2/N2)/L2)*((-N1 + c**2*r1)/(-N1*r2/r1 + N2) + L2*(N2 - c**2*r2)/(L1*(-N1*r2/r1 + N2)))/c + 1)**2) - (L2*(-1/2*N2/L2**2 + (1/2)*c**2*r2/L2**2)/(L1*np.sqrt(N2/L2 - c**2*r2/L2)) + np.sqrt(N2/L2 - c**2*r2/L2)/L1)*(N1*(H*om*np.sqrt(N2*(1 - c**2*r2/N2)/L2)*(2*c*r1/(-N1*r2/r1 + N2) - 2*L2*c*r2/(L1*(-N1*r2/r1 + N2)))/c - H*om*np.sqrt(N2*(1 - c**2*r2/N2)/L2)*((-N1 + c**2*r1)/(-N1*r2/r1 + N2) + L2*(N2 - c**2*r2)/(L1*(-N1*r2/r1 + N2)))/c**2 - H*om*r2*np.sqrt(N2*(1 - c**2*r2/N2)/L2)*((-N1 + c**2*r1)/(-N1*r2/r1 + N2) + L2*(N2 - c**2*r2)/(L1*(-N1*r2/r1 + N2)))/(N2*(1 - c**2*r2/N2)) + 2*c*r1/N1)/(c*r1*(H*om*np.sqrt(N2*(1 - c**2*r2/N2)/L2)*((-N1 + c**2*r1)/(-N1*r2/r1 + N2) + L2*(N2 - c**2*r2)/(L1*(-N1*r2/r1 + N2)))/c + 1)) + N1*(H*om*np.sqrt(N2*(1 - c**2*r2/N2)/L2)*((-N1 + c**2*r1)/(-N1*r2/r1 + N2) + L2*(N2 - c**2*r2)/(L1*(-N1*r2/r1 + N2)))/c + c**2*r1/N1)*(-H*om*np.sqrt(N2*(1 - c**2*r2/N2)/L2)*(2*c*r1/(-N1*r2/r1 + N2) - 2*L2*c*r2/(L1*(-N1*r2/r1 + N2)))/c + H*om*np.sqrt(N2*(1 - c**2*r2/N2)/L2)*((-N1 + c**2*r1)/(-N1*r2/r1 + N2) + L2*(N2 - c**2*r2)/(L1*(-N1*r2/r1 + N2)))/c**2 + H*om*r2*np.sqrt(N2*(1 - c**2*r2/N2)/L2)*((-N1 + c**2*r1)/(-N1*r2/r1 + N2) + L2*(N2 - c**2*r2)/(L1*(-N1*r2/r1 + N2)))/(N2*(1 - c**2*r2/N2)))/(c*r1*(H*om*np.sqrt(N2*(1 - c**2*r2/N2)/L2)*((-N1 + c**2*r1)/(-N1*r2/r1 + N2) + L2*(N2 - c**2*r2)/(L1*(-N1*r2/r1 + N2)))/c + 1)**2) - N1*(H*om*np.sqrt(N2*(1 - c**2*r2/N2)/L2)*((-N1 + c**2*r1)/(-N1*r2/r1 + N2) + L2*(N2 - c**2*r2)/(L1*(-N1*r2/r1 + N2)))/c + c**2*r1/N1)/(c**2*r1*(H*om*np.sqrt(N2*(1 - c**2*r2/N2)/L2)*((-N1 + c**2*r1)/(-N1*r2/r1 + N2) + L2*(N2 - c**2*r2)/(L1*(-N1*r2/r1 + N2)))/c + 1)))/(-np.sqrt(-N1/L1 + c**2*r1/L1)*(-H*om*np.sqrt(-N1/L1 + c**2*r1/L1)/c**2 + H*om*r1/(L1*np.sqrt(-N1/L1 + c**2*r1/L1)))*(np.tan(H*om*np.sqrt(-N1/L1 + c**2*r1/L1)/c)**2 + 1) - c*r1*np.tan(H*om*np.sqrt(-N1/L1 + c**2*r1/L1)/c)/(L1*np.sqrt(-N1/L1 + c**2*r1/L1)) - c*r2/(L1*np.sqrt(N2/L2 - c**2*r2/L2)))\n",
    "    dcc_dcL1=-H*L2*N1*om*np.sqrt(N2*(1 - c**2*r2/N2)/L2)*(N2 - c**2*r2)/(L1**2*c**2*r1*(-N1*r2/r1 + N2)*(H*om*np.sqrt(N2*(1 - c**2*r2/N2)/L2)*((-N1 + c**2*r1)/(-N1*r2/r1 + N2) + L2*(N2 - c**2*r2)/(L1*(-N1*r2/r1 + N2)))/c + 1)) + H*L2*N1*om*np.sqrt(N2*(1 - c**2*r2/N2)/L2)*(N2 - c**2*r2)*(H*om*np.sqrt(N2*(1 - c**2*r2/N2)/L2)*((-N1 + c**2*r1)/(-N1*r2/r1 + N2) + L2*(N2 - c**2*r2)/(L1*(-N1*r2/r1 + N2)))/c + c**2*r1/N1)/(L1**2*c**2*r1*(-N1*r2/r1 + N2)*(H*om*np.sqrt(N2*(1 - c**2*r2/N2)/L2)*((-N1 + c**2*r1)/(-N1*r2/r1 + N2) + L2*(N2 - c**2*r2)/(L1*(-N1*r2/r1 + N2)))/c + 1)**2) - (-H*om*((1/2)*N1/L1**2 - 1/2*c**2*r1/L1**2)*(np.tan(H*om*np.sqrt(-N1/L1 + c**2*r1/L1)/c)**2 + 1)/c - ((1/2)*N1/L1**2 - 1/2*c**2*r1/L1**2)*np.tan(H*om*np.sqrt(-N1/L1 + c**2*r1/L1)/c)/np.sqrt(-N1/L1 + c**2*r1/L1) - L2*np.sqrt(N2/L2 - c**2*r2/L2)/L1**2)*(N1*(H*om*np.sqrt(N2*(1 - c**2*r2/N2)/L2)*(2*c*r1/(-N1*r2/r1 + N2) - 2*L2*c*r2/(L1*(-N1*r2/r1 + N2)))/c - H*om*np.sqrt(N2*(1 - c**2*r2/N2)/L2)*((-N1 + c**2*r1)/(-N1*r2/r1 + N2) + L2*(N2 - c**2*r2)/(L1*(-N1*r2/r1 + N2)))/c**2 - H*om*r2*np.sqrt(N2*(1 - c**2*r2/N2)/L2)*((-N1 + c**2*r1)/(-N1*r2/r1 + N2) + L2*(N2 - c**2*r2)/(L1*(-N1*r2/r1 + N2)))/(N2*(1 - c**2*r2/N2)) + 2*c*r1/N1)/(c*r1*(H*om*np.sqrt(N2*(1 - c**2*r2/N2)/L2)*((-N1 + c**2*r1)/(-N1*r2/r1 + N2) + L2*(N2 - c**2*r2)/(L1*(-N1*r2/r1 + N2)))/c + 1)) + N1*(H*om*np.sqrt(N2*(1 - c**2*r2/N2)/L2)*((-N1 + c**2*r1)/(-N1*r2/r1 + N2) + L2*(N2 - c**2*r2)/(L1*(-N1*r2/r1 + N2)))/c + c**2*r1/N1)*(-H*om*np.sqrt(N2*(1 - c**2*r2/N2)/L2)*(2*c*r1/(-N1*r2/r1 + N2) - 2*L2*c*r2/(L1*(-N1*r2/r1 + N2)))/c + H*om*np.sqrt(N2*(1 - c**2*r2/N2)/L2)*((-N1 + c**2*r1)/(-N1*r2/r1 + N2) + L2*(N2 - c**2*r2)/(L1*(-N1*r2/r1 + N2)))/c**2 + H*om*r2*np.sqrt(N2*(1 - c**2*r2/N2)/L2)*((-N1 + c**2*r1)/(-N1*r2/r1 + N2) + L2*(N2 - c**2*r2)/(L1*(-N1*r2/r1 + N2)))/(N2*(1 - c**2*r2/N2)))/(c*r1*(H*om*np.sqrt(N2*(1 - c**2*r2/N2)/L2)*((-N1 + c**2*r1)/(-N1*r2/r1 + N2) + L2*(N2 - c**2*r2)/(L1*(-N1*r2/r1 + N2)))/c + 1)**2) - N1*(H*om*np.sqrt(N2*(1 - c**2*r2/N2)/L2)*((-N1 + c**2*r1)/(-N1*r2/r1 + N2) + L2*(N2 - c**2*r2)/(L1*(-N1*r2/r1 + N2)))/c + c**2*r1/N1)/(c**2*r1*(H*om*np.sqrt(N2*(1 - c**2*r2/N2)/L2)*((-N1 + c**2*r1)/(-N1*r2/r1 + N2) + L2*(N2 - c**2*r2)/(L1*(-N1*r2/r1 + N2)))/c + 1)))/(-np.sqrt(-N1/L1 + c**2*r1/L1)*(-H*om*np.sqrt(-N1/L1 + c**2*r1/L1)/c**2 + H*om*r1/(L1*np.sqrt(-N1/L1 + c**2*r1/L1)))*(np.tan(H*om*np.sqrt(-N1/L1 + c**2*r1/L1)/c)**2 + 1) - c*r1*np.tan(H*om*np.sqrt(-N1/L1 + c**2*r1/L1)/c)/(L1*np.sqrt(-N1/L1 + c**2*r1/L1)) - c*r2/(L1*np.sqrt(N2/L2 - c**2*r2/L2)))\n",
    "    dcc_dcN2=N1*(H*L2*om*np.sqrt(N2*(1 - c**2*r2/N2)/L2)*((1/2)*(1 - c**2*r2/N2)/L2 + (1/2)*c**2*r2/(L2*N2))*((-N1 + c**2*r1)/(-N1*r2/r1 + N2) + L2*(N2 - c**2*r2)/(L1*(-N1*r2/r1 + N2)))/(N2*c*(1 - c**2*r2/N2)) + H*om*np.sqrt(N2*(1 - c**2*r2/N2)/L2)*(-(-N1 + c**2*r1)/(-N1*r2/r1 + N2)**2 - L2*(N2 - c**2*r2)/(L1*(-N1*r2/r1 + N2)**2) + L2/(L1*(-N1*r2/r1 + N2)))/c)/(c*r1*(H*om*np.sqrt(N2*(1 - c**2*r2/N2)/L2)*((-N1 + c**2*r1)/(-N1*r2/r1 + N2) + L2*(N2 - c**2*r2)/(L1*(-N1*r2/r1 + N2)))/c + 1)) + N1*(H*om*np.sqrt(N2*(1 - c**2*r2/N2)/L2)*((-N1 + c**2*r1)/(-N1*r2/r1 + N2) + L2*(N2 - c**2*r2)/(L1*(-N1*r2/r1 + N2)))/c + c**2*r1/N1)*(-H*L2*om*np.sqrt(N2*(1 - c**2*r2/N2)/L2)*((1/2)*(1 - c**2*r2/N2)/L2 + (1/2)*c**2*r2/(L2*N2))*((-N1 + c**2*r1)/(-N1*r2/r1 + N2) + L2*(N2 - c**2*r2)/(L1*(-N1*r2/r1 + N2)))/(N2*c*(1 - c**2*r2/N2)) - H*om*np.sqrt(N2*(1 - c**2*r2/N2)/L2)*(-(-N1 + c**2*r1)/(-N1*r2/r1 + N2)**2 - L2*(N2 - c**2*r2)/(L1*(-N1*r2/r1 + N2)**2) + L2/(L1*(-N1*r2/r1 + N2)))/c)/(c*r1*(H*om*np.sqrt(N2*(1 - c**2*r2/N2)/L2)*((-N1 + c**2*r1)/(-N1*r2/r1 + N2) + L2*(N2 - c**2*r2)/(L1*(-N1*r2/r1 + N2)))/c + 1)**2) - 1/2*(N1*(H*om*np.sqrt(N2*(1 - c**2*r2/N2)/L2)*(2*c*r1/(-N1*r2/r1 + N2) - 2*L2*c*r2/(L1*(-N1*r2/r1 + N2)))/c - H*om*np.sqrt(N2*(1 - c**2*r2/N2)/L2)*((-N1 + c**2*r1)/(-N1*r2/r1 + N2) + L2*(N2 - c**2*r2)/(L1*(-N1*r2/r1 + N2)))/c**2 - H*om*r2*np.sqrt(N2*(1 - c**2*r2/N2)/L2)*((-N1 + c**2*r1)/(-N1*r2/r1 + N2) + L2*(N2 - c**2*r2)/(L1*(-N1*r2/r1 + N2)))/(N2*(1 - c**2*r2/N2)) + 2*c*r1/N1)/(c*r1*(H*om*np.sqrt(N2*(1 - c**2*r2/N2)/L2)*((-N1 + c**2*r1)/(-N1*r2/r1 + N2) + L2*(N2 - c**2*r2)/(L1*(-N1*r2/r1 + N2)))/c + 1)) + N1*(H*om*np.sqrt(N2*(1 - c**2*r2/N2)/L2)*((-N1 + c**2*r1)/(-N1*r2/r1 + N2) + L2*(N2 - c**2*r2)/(L1*(-N1*r2/r1 + N2)))/c + c**2*r1/N1)*(-H*om*np.sqrt(N2*(1 - c**2*r2/N2)/L2)*(2*c*r1/(-N1*r2/r1 + N2) - 2*L2*c*r2/(L1*(-N1*r2/r1 + N2)))/c + H*om*np.sqrt(N2*(1 - c**2*r2/N2)/L2)*((-N1 + c**2*r1)/(-N1*r2/r1 + N2) + L2*(N2 - c**2*r2)/(L1*(-N1*r2/r1 + N2)))/c**2 + H*om*r2*np.sqrt(N2*(1 - c**2*r2/N2)/L2)*((-N1 + c**2*r1)/(-N1*r2/r1 + N2) + L2*(N2 - c**2*r2)/(L1*(-N1*r2/r1 + N2)))/(N2*(1 - c**2*r2/N2)))/(c*r1*(H*om*np.sqrt(N2*(1 - c**2*r2/N2)/L2)*((-N1 + c**2*r1)/(-N1*r2/r1 + N2) + L2*(N2 - c**2*r2)/(L1*(-N1*r2/r1 + N2)))/c + 1)**2) - N1*(H*om*np.sqrt(N2*(1 - c**2*r2/N2)/L2)*((-N1 + c**2*r1)/(-N1*r2/r1 + N2) + L2*(N2 - c**2*r2)/(L1*(-N1*r2/r1 + N2)))/c + c**2*r1/N1)/(c**2*r1*(H*om*np.sqrt(N2*(1 - c**2*r2/N2)/L2)*((-N1 + c**2*r1)/(-N1*r2/r1 + N2) + L2*(N2 - c**2*r2)/(L1*(-N1*r2/r1 + N2)))/c + 1)))/(L1*np.sqrt(N2/L2 - c**2*r2/L2)*(-np.sqrt(-N1/L1 + c**2*r1/L1)*(-H*om*np.sqrt(-N1/L1 + c**2*r1/L1)/c**2 + H*om*r1/(L1*np.sqrt(-N1/L1 + c**2*r1/L1)))*(np.tan(H*om*np.sqrt(-N1/L1 + c**2*r1/L1)/c)**2 + 1) - c*r1*np.tan(H*om*np.sqrt(-N1/L1 + c**2*r1/L1)/c)/(L1*np.sqrt(-N1/L1 + c**2*r1/L1)) - c*r2/(L1*np.sqrt(N2/L2 - c**2*r2/L2))))\n",
    "    dcc_dcN1=-H*N1*om*np.sqrt(N2*(1 - c**2*r2/N2)/L2)*(H*om*np.sqrt(N2*(1 - c**2*r2/N2)/L2)*((-N1 + c**2*r1)/(-N1*r2/r1 + N2) + L2*(N2 - c**2*r2)/(L1*(-N1*r2/r1 + N2)))/c + c**2*r1/N1)*(-1/(-N1*r2/r1 + N2) + r2*(-N1 + c**2*r1)/(r1*(-N1*r2/r1 + N2)**2) + L2*r2*(N2 - c**2*r2)/(L1*r1*(-N1*r2/r1 + N2)**2))/(c**2*r1*(H*om*np.sqrt(N2*(1 - c**2*r2/N2)/L2)*((-N1 + c**2*r1)/(-N1*r2/r1 + N2) + L2*(N2 - c**2*r2)/(L1*(-N1*r2/r1 + N2)))/c + 1)**2) + N1*(H*om*np.sqrt(N2*(1 - c**2*r2/N2)/L2)*(-1/(-N1*r2/r1 + N2) + r2*(-N1 + c**2*r1)/(r1*(-N1*r2/r1 + N2)**2) + L2*r2*(N2 - c**2*r2)/(L1*r1*(-N1*r2/r1 + N2)**2))/c - c**2*r1/N1**2)/(c*r1*(H*om*np.sqrt(N2*(1 - c**2*r2/N2)/L2)*((-N1 + c**2*r1)/(-N1*r2/r1 + N2) + L2*(N2 - c**2*r2)/(L1*(-N1*r2/r1 + N2)))/c + 1)) - ((1/2)*H*om*(np.tan(H*om*np.sqrt(-N1/L1 + c**2*r1/L1)/c)**2 + 1)/(L1*c) + (1/2)*np.tan(H*om*np.sqrt(-N1/L1 + c**2*r1/L1)/c)/(L1*np.sqrt(-N1/L1 + c**2*r1/L1)))*(N1*(H*om*np.sqrt(N2*(1 - c**2*r2/N2)/L2)*(2*c*r1/(-N1*r2/r1 + N2) - 2*L2*c*r2/(L1*(-N1*r2/r1 + N2)))/c - H*om*np.sqrt(N2*(1 - c**2*r2/N2)/L2)*((-N1 + c**2*r1)/(-N1*r2/r1 + N2) + L2*(N2 - c**2*r2)/(L1*(-N1*r2/r1 + N2)))/c**2 - H*om*r2*np.sqrt(N2*(1 - c**2*r2/N2)/L2)*((-N1 + c**2*r1)/(-N1*r2/r1 + N2) + L2*(N2 - c**2*r2)/(L1*(-N1*r2/r1 + N2)))/(N2*(1 - c**2*r2/N2)) + 2*c*r1/N1)/(c*r1*(H*om*np.sqrt(N2*(1 - c**2*r2/N2)/L2)*((-N1 + c**2*r1)/(-N1*r2/r1 + N2) + L2*(N2 - c**2*r2)/(L1*(-N1*r2/r1 + N2)))/c + 1)) + N1*(H*om*np.sqrt(N2*(1 - c**2*r2/N2)/L2)*((-N1 + c**2*r1)/(-N1*r2/r1 + N2) + L2*(N2 - c**2*r2)/(L1*(-N1*r2/r1 + N2)))/c + c**2*r1/N1)*(-H*om*np.sqrt(N2*(1 - c**2*r2/N2)/L2)*(2*c*r1/(-N1*r2/r1 + N2) - 2*L2*c*r2/(L1*(-N1*r2/r1 + N2)))/c + H*om*np.sqrt(N2*(1 - c**2*r2/N2)/L2)*((-N1 + c**2*r1)/(-N1*r2/r1 + N2) + L2*(N2 - c**2*r2)/(L1*(-N1*r2/r1 + N2)))/c**2 + H*om*r2*np.sqrt(N2*(1 - c**2*r2/N2)/L2)*((-N1 + c**2*r1)/(-N1*r2/r1 + N2) + L2*(N2 - c**2*r2)/(L1*(-N1*r2/r1 + N2)))/(N2*(1 - c**2*r2/N2)))/(c*r1*(H*om*np.sqrt(N2*(1 - c**2*r2/N2)/L2)*((-N1 + c**2*r1)/(-N1*r2/r1 + N2) + L2*(N2 - c**2*r2)/(L1*(-N1*r2/r1 + N2)))/c + 1)**2) - N1*(H*om*np.sqrt(N2*(1 - c**2*r2/N2)/L2)*((-N1 + c**2*r1)/(-N1*r2/r1 + N2) + L2*(N2 - c**2*r2)/(L1*(-N1*r2/r1 + N2)))/c + c**2*r1/N1)/(c**2*r1*(H*om*np.sqrt(N2*(1 - c**2*r2/N2)/L2)*((-N1 + c**2*r1)/(-N1*r2/r1 + N2) + L2*(N2 - c**2*r2)/(L1*(-N1*r2/r1 + N2)))/c + 1)))/(-np.sqrt(-N1/L1 + c**2*r1/L1)*(-H*om*np.sqrt(-N1/L1 + c**2*r1/L1)/c**2 + H*om*r1/(L1*np.sqrt(-N1/L1 + c**2*r1/L1)))*(np.tan(H*om*np.sqrt(-N1/L1 + c**2*r1/L1)/c)**2 + 1) - c*r1*np.tan(H*om*np.sqrt(-N1/L1 + c**2*r1/L1)/c)/(L1*np.sqrt(-N1/L1 + c**2*r1/L1)) - c*r2/(L1*np.sqrt(N2/L2 - c**2*r2/L2))) + (H*om*np.sqrt(N2*(1 - c**2*r2/N2)/L2)*((-N1 + c**2*r1)/(-N1*r2/r1 + N2) + L2*(N2 - c**2*r2)/(L1*(-N1*r2/r1 + N2)))/c + c**2*r1/N1)/(c*r1*(H*om*np.sqrt(N2*(1 - c**2*r2/N2)/L2)*((-N1 + c**2*r1)/(-N1*r2/r1 + N2) + L2*(N2 - c**2*r2)/(L1*(-N1*r2/r1 + N2)))/c + 1))\n",
    "    dcc_dr2=N1*(H*om*np.sqrt(N2*(1 - c**2*r2/N2)/L2)*(N1*(-N1 + c**2*r1)/(r1*(-N1*r2/r1 + N2)**2) + L2*N1*(N2 - c**2*r2)/(L1*r1*(-N1*r2/r1 + N2)**2) - L2*c**2/(L1*(-N1*r2/r1 + N2)))/c - 1/2*H*c*om*np.sqrt(N2*(1 - c**2*r2/N2)/L2)*((-N1 + c**2*r1)/(-N1*r2/r1 + N2) + L2*(N2 - c**2*r2)/(L1*(-N1*r2/r1 + N2)))/(N2*(1 - c**2*r2/N2)))/(c*r1*(H*om*np.sqrt(N2*(1 - c**2*r2/N2)/L2)*((-N1 + c**2*r1)/(-N1*r2/r1 + N2) + L2*(N2 - c**2*r2)/(L1*(-N1*r2/r1 + N2)))/c + 1)) + N1*(H*om*np.sqrt(N2*(1 - c**2*r2/N2)/L2)*((-N1 + c**2*r1)/(-N1*r2/r1 + N2) + L2*(N2 - c**2*r2)/(L1*(-N1*r2/r1 + N2)))/c + c**2*r1/N1)*(-H*om*np.sqrt(N2*(1 - c**2*r2/N2)/L2)*(N1*(-N1 + c**2*r1)/(r1*(-N1*r2/r1 + N2)**2) + L2*N1*(N2 - c**2*r2)/(L1*r1*(-N1*r2/r1 + N2)**2) - L2*c**2/(L1*(-N1*r2/r1 + N2)))/c + (1/2)*H*c*om*np.sqrt(N2*(1 - c**2*r2/N2)/L2)*((-N1 + c**2*r1)/(-N1*r2/r1 + N2) + L2*(N2 - c**2*r2)/(L1*(-N1*r2/r1 + N2)))/(N2*(1 - c**2*r2/N2)))/(c*r1*(H*om*np.sqrt(N2*(1 - c**2*r2/N2)/L2)*((-N1 + c**2*r1)/(-N1*r2/r1 + N2) + L2*(N2 - c**2*r2)/(L1*(-N1*r2/r1 + N2)))/c + 1)**2) + (1/2)*c**2*(N1*(H*om*np.sqrt(N2*(1 - c**2*r2/N2)/L2)*(2*c*r1/(-N1*r2/r1 + N2) - 2*L2*c*r2/(L1*(-N1*r2/r1 + N2)))/c - H*om*np.sqrt(N2*(1 - c**2*r2/N2)/L2)*((-N1 + c**2*r1)/(-N1*r2/r1 + N2) + L2*(N2 - c**2*r2)/(L1*(-N1*r2/r1 + N2)))/c**2 - H*om*r2*np.sqrt(N2*(1 - c**2*r2/N2)/L2)*((-N1 + c**2*r1)/(-N1*r2/r1 + N2) + L2*(N2 - c**2*r2)/(L1*(-N1*r2/r1 + N2)))/(N2*(1 - c**2*r2/N2)) + 2*c*r1/N1)/(c*r1*(H*om*np.sqrt(N2*(1 - c**2*r2/N2)/L2)*((-N1 + c**2*r1)/(-N1*r2/r1 + N2) + L2*(N2 - c**2*r2)/(L1*(-N1*r2/r1 + N2)))/c + 1)) + N1*(H*om*np.sqrt(N2*(1 - c**2*r2/N2)/L2)*((-N1 + c**2*r1)/(-N1*r2/r1 + N2) + L2*(N2 - c**2*r2)/(L1*(-N1*r2/r1 + N2)))/c + c**2*r1/N1)*(-H*om*np.sqrt(N2*(1 - c**2*r2/N2)/L2)*(2*c*r1/(-N1*r2/r1 + N2) - 2*L2*c*r2/(L1*(-N1*r2/r1 + N2)))/c + H*om*np.sqrt(N2*(1 - c**2*r2/N2)/L2)*((-N1 + c**2*r1)/(-N1*r2/r1 + N2) + L2*(N2 - c**2*r2)/(L1*(-N1*r2/r1 + N2)))/c**2 + H*om*r2*np.sqrt(N2*(1 - c**2*r2/N2)/L2)*((-N1 + c**2*r1)/(-N1*r2/r1 + N2) + L2*(N2 - c**2*r2)/(L1*(-N1*r2/r1 + N2)))/(N2*(1 - c**2*r2/N2)))/(c*r1*(H*om*np.sqrt(N2*(1 - c**2*r2/N2)/L2)*((-N1 + c**2*r1)/(-N1*r2/r1 + N2) + L2*(N2 - c**2*r2)/(L1*(-N1*r2/r1 + N2)))/c + 1)**2) - N1*(H*om*np.sqrt(N2*(1 - c**2*r2/N2)/L2)*((-N1 + c**2*r1)/(-N1*r2/r1 + N2) + L2*(N2 - c**2*r2)/(L1*(-N1*r2/r1 + N2)))/c + c**2*r1/N1)/(c**2*r1*(H*om*np.sqrt(N2*(1 - c**2*r2/N2)/L2)*((-N1 + c**2*r1)/(-N1*r2/r1 + N2) + L2*(N2 - c**2*r2)/(L1*(-N1*r2/r1 + N2)))/c + 1)))/(L1*np.sqrt(N2/L2 - c**2*r2/L2)*(-np.sqrt(-N1/L1 + c**2*r1/L1)*(-H*om*np.sqrt(-N1/L1 + c**2*r1/L1)/c**2 + H*om*r1/(L1*np.sqrt(-N1/L1 + c**2*r1/L1)))*(np.tan(H*om*np.sqrt(-N1/L1 + c**2*r1/L1)/c)**2 + 1) - c*r1*np.tan(H*om*np.sqrt(-N1/L1 + c**2*r1/L1)/c)/(L1*np.sqrt(-N1/L1 + c**2*r1/L1)) - c*r2/(L1*np.sqrt(N2/L2 - c**2*r2/L2))))\n",
    "    dcc_dr1=-H*N1*om*np.sqrt(N2*(1 - c**2*r2/N2)/L2)*(H*om*np.sqrt(N2*(1 - c**2*r2/N2)/L2)*((-N1 + c**2*r1)/(-N1*r2/r1 + N2) + L2*(N2 - c**2*r2)/(L1*(-N1*r2/r1 + N2)))/c + c**2*r1/N1)*(-N1*r2*(-N1 + c**2*r1)/(r1**2*(-N1*r2/r1 + N2)**2) + c**2/(-N1*r2/r1 + N2) - L2*N1*r2*(N2 - c**2*r2)/(L1*r1**2*(-N1*r2/r1 + N2)**2))/(c**2*r1*(H*om*np.sqrt(N2*(1 - c**2*r2/N2)/L2)*((-N1 + c**2*r1)/(-N1*r2/r1 + N2) + L2*(N2 - c**2*r2)/(L1*(-N1*r2/r1 + N2)))/c + 1)**2) + N1*(H*om*np.sqrt(N2*(1 - c**2*r2/N2)/L2)*(-N1*r2*(-N1 + c**2*r1)/(r1**2*(-N1*r2/r1 + N2)**2) + c**2/(-N1*r2/r1 + N2) - L2*N1*r2*(N2 - c**2*r2)/(L1*r1**2*(-N1*r2/r1 + N2)**2))/c + c**2/N1)/(c*r1*(H*om*np.sqrt(N2*(1 - c**2*r2/N2)/L2)*((-N1 + c**2*r1)/(-N1*r2/r1 + N2) + L2*(N2 - c**2*r2)/(L1*(-N1*r2/r1 + N2)))/c + 1)) - N1*(H*om*np.sqrt(N2*(1 - c**2*r2/N2)/L2)*((-N1 + c**2*r1)/(-N1*r2/r1 + N2) + L2*(N2 - c**2*r2)/(L1*(-N1*r2/r1 + N2)))/c + c**2*r1/N1)/(c*r1**2*(H*om*np.sqrt(N2*(1 - c**2*r2/N2)/L2)*((-N1 + c**2*r1)/(-N1*r2/r1 + N2) + L2*(N2 - c**2*r2)/(L1*(-N1*r2/r1 + N2)))/c + 1)) - (-1/2*H*c*om*(np.tan(H*om*np.sqrt(-N1/L1 + c**2*r1/L1)/c)**2 + 1)/L1 - 1/2*c**2*np.tan(H*om*np.sqrt(-N1/L1 + c**2*r1/L1)/c)/(L1*np.sqrt(-N1/L1 + c**2*r1/L1)))*(N1*(H*om*np.sqrt(N2*(1 - c**2*r2/N2)/L2)*(2*c*r1/(-N1*r2/r1 + N2) - 2*L2*c*r2/(L1*(-N1*r2/r1 + N2)))/c - H*om*np.sqrt(N2*(1 - c**2*r2/N2)/L2)*((-N1 + c**2*r1)/(-N1*r2/r1 + N2) + L2*(N2 - c**2*r2)/(L1*(-N1*r2/r1 + N2)))/c**2 - H*om*r2*np.sqrt(N2*(1 - c**2*r2/N2)/L2)*((-N1 + c**2*r1)/(-N1*r2/r1 + N2) + L2*(N2 - c**2*r2)/(L1*(-N1*r2/r1 + N2)))/(N2*(1 - c**2*r2/N2)) + 2*c*r1/N1)/(c*r1*(H*om*np.sqrt(N2*(1 - c**2*r2/N2)/L2)*((-N1 + c**2*r1)/(-N1*r2/r1 + N2) + L2*(N2 - c**2*r2)/(L1*(-N1*r2/r1 + N2)))/c + 1)) + N1*(H*om*np.sqrt(N2*(1 - c**2*r2/N2)/L2)*((-N1 + c**2*r1)/(-N1*r2/r1 + N2) + L2*(N2 - c**2*r2)/(L1*(-N1*r2/r1 + N2)))/c + c**2*r1/N1)*(-H*om*np.sqrt(N2*(1 - c**2*r2/N2)/L2)*(2*c*r1/(-N1*r2/r1 + N2) - 2*L2*c*r2/(L1*(-N1*r2/r1 + N2)))/c + H*om*np.sqrt(N2*(1 - c**2*r2/N2)/L2)*((-N1 + c**2*r1)/(-N1*r2/r1 + N2) + L2*(N2 - c**2*r2)/(L1*(-N1*r2/r1 + N2)))/c**2 + H*om*r2*np.sqrt(N2*(1 - c**2*r2/N2)/L2)*((-N1 + c**2*r1)/(-N1*r2/r1 + N2) + L2*(N2 - c**2*r2)/(L1*(-N1*r2/r1 + N2)))/(N2*(1 - c**2*r2/N2)))/(c*r1*(H*om*np.sqrt(N2*(1 - c**2*r2/N2)/L2)*((-N1 + c**2*r1)/(-N1*r2/r1 + N2) + L2*(N2 - c**2*r2)/(L1*(-N1*r2/r1 + N2)))/c + 1)**2) - N1*(H*om*np.sqrt(N2*(1 - c**2*r2/N2)/L2)*((-N1 + c**2*r1)/(-N1*r2/r1 + N2) + L2*(N2 - c**2*r2)/(L1*(-N1*r2/r1 + N2)))/c + c**2*r1/N1)/(c**2*r1*(H*om*np.sqrt(N2*(1 - c**2*r2/N2)/L2)*((-N1 + c**2*r1)/(-N1*r2/r1 + N2) + L2*(N2 - c**2*r2)/(L1*(-N1*r2/r1 + N2)))/c + 1)))/(-np.sqrt(-N1/L1 + c**2*r1/L1)*(-H*om*np.sqrt(-N1/L1 + c**2*r1/L1)/c**2 + H*om*r1/(L1*np.sqrt(-N1/L1 + c**2*r1/L1)))*(np.tan(H*om*np.sqrt(-N1/L1 + c**2*r1/L1)/c)**2 + 1) - c*r1*np.tan(H*om*np.sqrt(-N1/L1 + c**2*r1/L1)/c)/(L1*np.sqrt(-N1/L1 + c**2*r1/L1)) - c*r2/(L1*np.sqrt(N2/L2 - c**2*r2/L2)))\n",
    "\n",
    "    return u,dcc_dcN1,dcc_dcN2"
   ]
  },
  {
   "cell_type": "code",
   "execution_count": null,
   "metadata": {},
   "outputs": [],
   "source": [
    "H,r2,bh2,bv2 = 35.0, 3.2, 5.5, 5.0\n",
    "r1,bh1,bv1 = 2.8,3.3,3.0\n",
    "L1 = r1 * bv1**2 \n",
    "L2 = r2 * bv2**2 \n",
    "N1 = r1 * bh1**2 \n",
    "N2 = r2 * bh2**2\n",
    "om = 2 * np.pi * 1. \n",
    "c = 3.5\n",
    "\n",
    "u,dcc_dN1,dcc_dN2 = lovefunc(c,r1,r2,N1,N2,L1,L2,H,om)\n",
    "\n",
    "L1p = L1 * (1 + 0.01)\n",
    "u1,_,_ = lovefunc(c,r1,r2,N1,N2,L1p,L2,H,om)\n",
    "L1p = L1 * (1 - 0.01)\n",
    "u2,_,_ = lovefunc(c,r1,r2,N1,N2,L1p,L2,H,om)"
   ]
  },
  {
   "cell_type": "code",
   "execution_count": 26,
   "metadata": {},
   "outputs": [],
   "source": [
    "from scipy.io import FortranFile\n",
    "import numpy as np "
   ]
  },
  {
   "cell_type": "code",
   "execution_count": 63,
   "metadata": {},
   "outputs": [
    {
     "data": {
      "text/plain": [
       "array([-20.08588409+8.52490589e-03j, -29.13581085+1.63370539e-02j,\n",
       "       -16.1961422 +7.69480877e-03j, -10.44473839+5.81249502e-03j,\n",
       "        -7.53049994+2.57444312e-03j,  -3.79345798+3.39113642e-04j,\n",
       "        -6.34739208-1.14467144e-02j,   0.        +0.00000000e+00j,\n",
       "        -7.67658234-2.88962107e-02j,  -9.04338932-4.87756655e-02j,\n",
       "       -11.12021732-7.17861429e-02j, -13.51273251-9.58754867e-02j,\n",
       "       -16.04442024-1.20172143e-01j, -18.65272141-1.44467264e-01j,\n",
       "       -21.32124329-1.68810248e-01j, -24.05067253-1.93327487e-01j,\n",
       "       -26.84672356-2.18148455e-01j, -29.7141571 -2.43369251e-01j,\n",
       "       -32.65489578-2.69044578e-01j, -35.66254807-2.95146942e-01j,\n",
       "       -38.71712875-3.21525753e-01j, -41.77021027-3.47784519e-01j,\n",
       "       -44.72974777-3.73154700e-01j, -47.44267654-3.96349788e-01j,\n",
       "       -51.4915657 -4.30832207e-01j, -49.52986526-4.14186358e-01j])"
      ]
     },
     "execution_count": 63,
     "metadata": {},
     "output_type": "execute_result"
    }
   ],
   "source": [
    "fio = FortranFile(\"mat.bin\",\"r\")\n",
    "S = fio.read_record('c16')\n",
    "du_dx = fio.read_record('c8')\n",
    "fio.close()\n",
    "\n",
    "n = len(du_dx)\n",
    "S = np.reshape(S,(n,n),order='F')\n",
    "\n",
    "np.diag(S)"
   ]
  },
  {
   "cell_type": "code",
   "execution_count": 55,
   "metadata": {},
   "outputs": [],
   "source": [
    "def solve_lower_triangular(L, b, tol=1e-12):\n",
    "    \"\"\"\n",
    "    Solve L x = b for x where L is lower triangular.\n",
    "\n",
    "    Parameters:\n",
    "    - L: (n, n) lower triangular matrix\n",
    "    - b: (n,) right-hand side vector\n",
    "    - tol: small threshold to treat diagonal elements as zero\n",
    "\n",
    "    Returns:\n",
    "    - x: (n,) solution vector\n",
    "    \"\"\"\n",
    "    n = L.shape[0]\n",
    "    x = np.zeros_like(b)\n",
    "    \n",
    "    for i in range(n):\n",
    "        if abs(L[i, i]) < tol:\n",
    "            x[i] = 0. \n",
    "            continue\n",
    "        \n",
    "        sum_Lx = np.dot(L[i, :i], x[:i])\n",
    "        x[i] = (b[i] - sum_Lx) / L[i, i]\n",
    "    \n",
    "    return x"
   ]
  },
  {
   "cell_type": "code",
   "execution_count": 67,
   "metadata": {},
   "outputs": [
    {
     "data": {
      "text/plain": [
       "85.98343980634992"
      ]
     },
     "execution_count": 67,
     "metadata": {},
     "output_type": "execute_result"
    }
   ],
   "source": [
    "fio = FortranFile(\"mat_single.bin\",\"r\")\n",
    "S1 = fio.read_record('c16')\n",
    "du_dx1 = fio.read_record('c8')\n",
    "fio.close()\n",
    "\n",
    "n = len(du_dx)\n",
    "S1 = np.reshape(S1,(n,n),order='F')\n",
    "\n",
    "x1 = solve_lower_triangular(S1,du_dx1,1.0e-50)\n",
    "\n",
    "np.linalg.norm(S1 * x1 - du_dx1)\n"
   ]
  },
  {
   "cell_type": "code",
   "execution_count": 66,
   "metadata": {},
   "outputs": [
    {
     "data": {
      "text/plain": [
       "64.92106387597505"
      ]
     },
     "execution_count": 66,
     "metadata": {},
     "output_type": "execute_result"
    }
   ],
   "source": [
    "x = solve_lower_triangular(S,du_dx)\n",
    "\n",
    "np.linalg.norm(S * x - du_dx)"
   ]
  },
  {
   "cell_type": "code",
   "execution_count": 54,
   "metadata": {},
   "outputs": [
    {
     "name": "stderr",
     "output_type": "stream",
     "text": [
      "/tmp/ipykernel_30251/2497934287.py:6: SparseEfficiencyWarning: CSC or CSR matrix format is required. Converting to CSC matrix.\n",
      "  spsolve_triangular(S_fix,du_dx)\n"
     ]
    },
    {
     "data": {
      "text/plain": [
       "array([ 3.96314376e-05-1.47234725e-07j, -1.10377240e+06+1.10331359e+06j,\n",
       "       -1.10377239e+06+1.10331359e+06j, -1.10377243e+06+1.10331359e+06j,\n",
       "       -1.10377236e+06+1.10331359e+06j, -1.10377237e+06+1.10331359e+06j,\n",
       "       -1.10377198e+06+1.10331353e+06j, -8.57758960e-01+1.59654658e-02j,\n",
       "       -4.75074111e-01+1.34230553e-02j, -2.51305698e-01+1.01697871e-02j,\n",
       "       -1.34951551e-01+7.87990609e-03j, -7.20346920e-02+6.49839188e-03j,\n",
       "       -3.58131739e-02+5.65366983e-03j, -1.36953040e-02+5.12127416e-03j,\n",
       "        4.33734920e-04+4.77615972e-03j,  9.79087248e-03+4.55558461e-03j,\n",
       "        3.45213199e-03+5.02535881e-03j,  6.39876320e-03+1.76073628e-03j,\n",
       "        4.44999941e-03-6.15093079e-04j,  2.30509267e-03-4.03996569e-04j,\n",
       "        8.03318016e-04-3.58360149e-04j, -2.27751588e-04-3.41826081e-04j,\n",
       "        4.22344040e-04-1.28318022e-04j,  1.60135194e-05+2.12654775e-06j,\n",
       "        1.82489370e-04-6.33660194e-06j, -1.91661677e-14-1.91661677e-14j])"
      ]
     },
     "execution_count": 54,
     "metadata": {},
     "output_type": "execute_result"
    }
   ],
   "source": [
    "S_fix = S * 1. \n",
    "sn = np.max(abs(S))\n",
    "idx = abs(S) == 0.0\n",
    "S_fix[idx] = 1.0e-6 * (1 + 1j) / np.sqrt(2)\n",
    "\n",
    "spsolve_triangular(S_fix,du_dx)"
   ]
  },
  {
   "cell_type": "code",
   "execution_count": 46,
   "metadata": {},
   "outputs": [
    {
     "name": "stderr",
     "output_type": "stream",
     "text": [
      "/tmp/ipykernel_30251/695442344.py:1: SparseEfficiencyWarning: CSC or CSR matrix format is required. Converting to CSC matrix.\n",
      "  spsolve_triangular(S1,du_dx1)\n"
     ]
    },
    {
     "data": {
      "text/plain": [
       "array([ 3.96335041e-05-1.47257136e-07j, -9.77873014e-03+3.07641762e-05j,\n",
       "        8.91459143e-03-2.18715342e-05j, -2.70890560e-02+4.60923262e-05j,\n",
       "        3.45962715e-02+1.01719631e-04j,  9.79626638e-02+1.20764298e-02j,\n",
       "        3.42818401e-01-4.90606798e-02j, -3.89020976e+00+2.72358727e+00j,\n",
       "       -6.62066952e-02+6.02275431e-01j, -5.18569685e-01+1.06000482e+00j,\n",
       "       -6.47666805e-01+1.16757781e+00j, -6.48152957e-01+1.10722262e+00j,\n",
       "        5.77789975e-01-9.96427803e-01j,  5.15134281e-01-8.61182410e-01j,\n",
       "       -4.16872560e-01+7.55692083e-01j,  1.23578396e-01-7.28474118e-01j,\n",
       "       -6.26496439e-01+8.31986111e-02j,  1.95577471e-02-5.40158670e-01j,\n",
       "        2.37887880e-01-3.96079372e-01j,  2.06437372e-01-3.35534938e-01j,\n",
       "       -1.42418850e-01+3.02032964e-01j, -1.23865951e-01+2.51107304e-01j,\n",
       "       -1.46947143e-01+1.77018043e-01j,  8.44683221e-03-1.81975774e-01j,\n",
       "       -1.67876243e-02+1.78242519e-02j, -1.15836955e-01+1.03086078e-01j])"
      ]
     },
     "execution_count": 46,
     "metadata": {},
     "output_type": "execute_result"
    }
   ],
   "source": [
    "spsolve_triangular(S1,du_dx1)"
   ]
  },
  {
   "cell_type": "code",
   "execution_count": null,
   "metadata": {},
   "outputs": [
    {
     "data": {
      "text/plain": [
       "array([-2.00858707e+01+8.52490216e-03j, -2.91358166e+01+1.63370427e-02j,\n",
       "       -1.61961613e+01+7.69481901e-03j, -1.04447346e+01+5.81248617e-03j,\n",
       "       -7.53049898e+00+2.57449201e-03j, -3.79345512e+00+3.39355320e-04j,\n",
       "       -6.34736538e+00-1.14467870e-02j,  1.78813934e-07+5.07570803e-08j,\n",
       "       -7.67656565e+00-2.88962163e-02j, -9.04317284e+00-4.87744994e-02j,\n",
       "       -1.11201191e+01-7.17855170e-02j, -1.35129290e+01-9.58763510e-02j,\n",
       "       -1.60446320e+01-1.20173492e-01j, -1.86530647e+01-1.44466728e-01j,\n",
       "       -2.13210812e+01-1.68810919e-01j, -2.40515289e+01-1.93336338e-01j,\n",
       "       -2.68457127e+01-2.18142897e-01j, -2.97160492e+01-2.43393958e-01j,\n",
       "       -3.26556511e+01-2.69056320e-01j, -3.56639061e+01-2.95155764e-01j,\n",
       "       -3.87195892e+01-3.21539998e-01j, -4.17674751e+01-3.47769499e-01j,\n",
       "       -4.47245750e+01-3.73107374e-01j, -4.74581184e+01-3.96485329e-01j,\n",
       "       -5.14868240e+01-4.30799901e-01j, -4.95219803e+01-4.14125562e-01j])"
      ]
     },
     "execution_count": 21,
     "metadata": {},
     "output_type": "execute_result"
    }
   ],
   "source": [
    "n = len(du_dx)\n",
    "S1 = np.reshape(S,(n,n),order='F')\n",
    "np.diag(S)"
   ]
  },
  {
   "cell_type": "code",
   "execution_count": null,
   "metadata": {},
   "outputs": [],
   "source": []
  }
 ],
 "metadata": {
  "kernelspec": {
   "display_name": "Python 3",
   "language": "python",
   "name": "python3"
  },
  "language_info": {
   "codemirror_mode": {
    "name": "ipython",
    "version": 3
   },
   "file_extension": ".py",
   "mimetype": "text/x-python",
   "name": "python",
   "nbconvert_exporter": "python",
   "pygments_lexer": "ipython3",
   "version": "3.12.2"
  }
 },
 "nbformat": 4,
 "nbformat_minor": 2
}
