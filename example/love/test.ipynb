{
 "cells": [
  {
   "cell_type": "code",
   "execution_count": 1,
   "metadata": {},
   "outputs": [],
   "source": [
    "import numpy as np \n",
    "import matplotlib.pyplot as plt \n",
    "from numba import jit "
   ]
  },
  {
   "cell_type": "code",
   "execution_count": 2,
   "metadata": {},
   "outputs": [],
   "source": [
    "@jit(nopython=True)\n",
    "def legendre(n,x):\n",
    "    leg = 1.\n",
    "    if n == 0:\n",
    "        leg = 1\n",
    "    elif n==1:\n",
    "        leg = x\n",
    "    else:\n",
    "        leg_down1 = x; leg_down2 = 1.\n",
    "        for i in range(2,n+1):\n",
    "            leg = (2*i-1)*x*leg_down1/i - (i-1)*leg_down2/i\n",
    "            leg_down2 = leg_down1\n",
    "            leg_down1 = leg\n",
    "\n",
    "    return leg\n",
    "\n",
    "@jit(nopython=True)\n",
    "def dlegendre(n,x):\n",
    "    dleg = 0.\n",
    "    if n == 0:\n",
    "        dleg = 0.\n",
    "    elif n == 1:\n",
    "        dleg = 1.\n",
    "    else:\n",
    "        leg_down1 = x; leg_down2 = 1.\n",
    "        dleg_down1 = 1.; dleg_down2 = 0.\n",
    "        for i in range(2,n+1):\n",
    "            leg = (2*i-1)*x*leg_down1/i - (i-1)*leg_down2/i\n",
    "            dleg = dleg_down2 + (2*i-1)*leg_down1\n",
    "            leg_down2 = leg_down1\n",
    "            leg_down1 = leg\n",
    "            dleg_down2 = dleg_down1\n",
    "            dleg_down1 = dleg\n",
    "\n",
    "    return dleg\n",
    "\n",
    "@jit(nopython=True)\n",
    "def gauss_legendre_lobatto(length:int):\n",
    "    #// define some constants\n",
    "    tolerance = 4.0 * 1.0e-6\n",
    "    nnewton_iter = 100\n",
    "    pi = np.pi\n",
    "    \n",
    "    # allocate space\n",
    "    n = length - 1; #// order of polynomial\n",
    "    x = np.array([0.0 for i in range(length)])\n",
    "    w = x * 1.\n",
    "    if n == 1:\n",
    "        x[0] = -1.; x[1] = 1.\n",
    "        w[0] = 1.; w[1] = 1.\n",
    "    else:\n",
    "        leg = 0.; dleg = 0.; delta = 0.\n",
    "        # set end points\n",
    "        x[0]   = -1.0; x[n] = 1.\n",
    "        w[0]   =  2./(n*(n+1.)); w[n] =  2./(n*(n+1.))\n",
    "\n",
    "        for i in range(1,(n+1)//2):\n",
    "            #// initial guess from an approximate form given by SV Parter (1999)\n",
    "            x[i] = -np.cos( (i+0.25)*pi/n  - 3/(8*n*pi*(i+0.25)))\n",
    "\n",
    "            #// newton iteration\n",
    "            for j in range(nnewton_iter):\n",
    "                leg = legendre(n+1,x[i]) - legendre(n-1,x[i])\n",
    "                dleg = dlegendre(n+1,x[i]) - dlegendre(n-1,x[i])\n",
    "                delta = -leg/dleg\n",
    "                x[i] += delta\n",
    "                if (np.abs(delta) <= tolerance * np.abs(x[i]) ): break\n",
    "            \n",
    "            x[n-i] = - x[i]\n",
    "            leg = legendre(n, x[i])\n",
    "            w[i] = 2./(n*(n+1.)*leg*leg)\n",
    "            w[n-i] = w[i]\n",
    "\n",
    "        if n %2 == 0 :\n",
    "            x[n//2] = 0.\n",
    "            leg = legendre(n, 0.0)\n",
    "            w[n//2]  = 2./(n*(n+1.)*leg*leg)\n",
    "    \n",
    "\n",
    "    return x,w\n",
    "\n",
    "@jit(nopython=True)\n",
    "def lagrange_poly(xi,xctrl):\n",
    "    nctrl = len(xctrl)\n",
    "    hprime = np.array([0.0 for i in range(nctrl)])\n",
    "    h = hprime * 1.0\n",
    "\n",
    "    #! note: this routine is hit pretty hard by the mesher, optimizing the loops here will be beneficial\n",
    "    for dgr in range(nctrl):\n",
    "        prod1 = 1.; prod2 = 1.\n",
    "\n",
    "        #// lagrangian interpolants\n",
    "        x0 = xctrl[dgr]\n",
    "        for i in range(nctrl):\n",
    "            if i != dgr:\n",
    "                x = xctrl[i]\n",
    "                prod1 = prod1*(xi-x)\n",
    "                prod2 = prod2*(x0-x)\n",
    "\n",
    "        #//! takes inverse to avoid additional divisions\n",
    "        #//! (multiplications are cheaper than divisions)\n",
    "        prod2_inv = 1. / prod2\n",
    "        h[dgr] = prod1 * prod2_inv\n",
    "\n",
    "        #// first derivatives\n",
    "        s = 0.0\n",
    "        for i in range(nctrl):\n",
    "            if i != dgr :\n",
    "                prod3 = 1.0\n",
    "                for j in range(nctrl):\n",
    "                    if j != dgr and j != i:\n",
    "                        prod3 = prod3*(xi-xctrl[j])\n",
    "                s = s + prod3\n",
    "        hprime[dgr] = s * prod2_inv\n",
    "    \n",
    "\n",
    "    return h,hprime\n",
    "\n",
    "\n",
    "def init_gll_arrays(NGLLX):\n",
    "\n",
    "    # gll points and weights\n",
    "    xgll,wxgll = gauss_legendre_lobatto(NGLLX)\n",
    "\n",
    "    #// derivative, hprimex[i][j] = l_j'(xi_i)\n",
    "    hprimex = np.zeros((NGLLX,NGLLX))\n",
    "    for i in range(NGLLX):\n",
    "        _,hprimex[i,:] = lagrange_poly(xgll[i],xgll)\n",
    "\n",
    "    #// hprimex_wgllx[i,j] = hprime_x[i,j] * wx[i] \n",
    "    hprimex_wgllx = np.zeros((NGLLX,NGLLX))\n",
    "    for i in range(NGLLX):\n",
    "        for j in range(NGLLX):\n",
    "            hprimex_wgllx[i,j] = hprimex[i,j] * wxgll[i]\n",
    "\n",
    "\n",
    "    return xgll,wxgll,hprimex,hprimex_wgllx\n",
    "\n"
   ]
  },
  {
   "cell_type": "code",
   "execution_count": 3,
   "metadata": {},
   "outputs": [],
   "source": [
    "@jit(nopython=True)\n",
    "def get_Q_sls_model(Q):\n",
    "\n",
    "    y_sls_ref = np.array([1.93044501, 1.64217132, 1.73606189, 1.42826439, 1.66934129])\n",
    "    w_sls_ref = np.array([4.71238898e-02, 6.63370885e-01, 9.42477796e+00, 1.14672436e+02,1.05597079e+03])\n",
    "    dy = y_sls_ref * 0 \n",
    "    y = y_sls_ref * 0\n",
    "    NSLS = len(y)\n",
    "\n",
    "    for i in range(NSLS):\n",
    "        y[i] = y_sls_ref[i] / Q \n",
    "    dy[0] = 1. + 0.5 * y[0]\n",
    "\n",
    "    for i in range(1,NSLS):\n",
    "        dy[i] = dy[i-1] + (dy[i-1] - 0.5) * y[i-1] + 0.5 * y[i]\n",
    "\n",
    "    #// copy to y_sls/w_sls\n",
    "    w_sls = w_sls_ref * 1. \n",
    "    y_sls = dy * y \n",
    "\n",
    "    return w_sls,y_sls \n",
    "\n",
    "@jit(nopython=True)\n",
    "def compute_q_sls_model(y_sls,w_sls,om,exact=False):\n",
    "    Q_ls = 1. \n",
    "    nsls = len(y_sls)\n",
    "    if exact:\n",
    "        for p in range(nsls):\n",
    "            Q_ls += y_sls[p] * om**2 / (om**2 + w_sls[p]**2)\n",
    "\n",
    "    # denom\n",
    "    Q_demon = 0.\n",
    "    for p in range(nsls):\n",
    "        Q_demon += y_sls[p] * om * w_sls[p] / (om**2 + w_sls[p]**2)\n",
    "    \n",
    "    return Q_ls / Q_demon\n",
    "@jit(nopython=True)\n",
    "def get_sls_modulus_factor(freq,Q):\n",
    "    om = 2 * np.pi * freq\n",
    "\n",
    "    w_sls,y_sls = get_Q_sls_model(Q)\n",
    "    s = np.sum(1j * om * y_sls / (w_sls + 1j * om))\n",
    "\n",
    "    return s + 1.\n",
    "\n",
    "@jit(nopython=True)\n",
    "def get_sls_Q_deriv(freq,Q):\n",
    "    y_sls_ref = np.array([1.93044501, 1.64217132, 1.73606189, 1.42826439, 1.66934129])\n",
    "    w_sls_ref = np.array([4.71238898e-02, 6.63370885e-01, 9.42477796e+00, 1.14672436e+02,1.05597079e+03])\n",
    "    dy = y_sls_ref * 0 \n",
    "    y = y_sls_ref  / Q \n",
    "\n",
    "    # corrector\n",
    "    NSLS = len(y_sls_ref)\n",
    "    dy[0] = 1. + 0.5 * y[0]\n",
    "    for i in range(1,NSLS):\n",
    "        dy[i] = dy[i-1] + (dy[i-1] - 0.5) * y[i-1] + 0.5 * y[i]\n",
    "    dd_dqi = dy * 0\n",
    "    dd_dqi[0] = 0.5 * y_sls_ref[0]\n",
    "    for i in range(1,NSLS):\n",
    "        dd_dqi[i] = dd_dqi[i-1] + (dy[i-1] - 0.5) * y_sls_ref[i-1] + dd_dqi[i-1] * y[i-1] +  0.5 * y_sls_ref[i]\n",
    "        \n",
    "    dd_dqi = dd_dqi * y + dy * y_sls_ref\n",
    "    om = 2 * np.pi * freq\n",
    "    dsdqi = np.sum(1j * om * dd_dqi /(w_sls_ref + 1j * om))\n",
    "    s = np.sum(1j * om * y * dy / (w_sls_ref + 1j * om))\n",
    "\n",
    "    return s + 1., dsdqi"
   ]
  },
  {
   "cell_type": "code",
   "execution_count": 35,
   "metadata": {},
   "outputs": [],
   "source": [
    "@jit(nopython=True)\n",
    "def assemble_matrix_diag(P,Qp,nspec,NGLL,NGRL,ibool,wgll,wgrl,jaco):\n",
    "    nglob = np.max(ibool) + 1\n",
    "    M = np.zeros((nglob),dtype=np.complex128)\n",
    "\n",
    "    for ispec in range(nspec + 1):\n",
    "        NGL = NGLL\n",
    "        if ispec == nspec:\n",
    "            wg = wgrl * 1.\n",
    "            NGL = NGRL\n",
    "        else:\n",
    "            wg = wgll * 1.\n",
    "\n",
    "        for i in range(NGL):\n",
    "            ig = ibool[ispec*NGLL+i]\n",
    "            sp = get_sls_modulus_factor(1.,Qp[ispec*NGLL+i])\n",
    "            M[ig] += jaco[ispec] * wg[i] * P[ispec*NGLL+i] * sp \n",
    "    \n",
    "    return M \n",
    "\n",
    "@jit(nopython=True)\n",
    "def assemble_matrix_diag_fd(P,Qp,nspec,NGLL,NGRL,ibool,wgll,wgrl,jaco,x,y,coef):\n",
    "    dm = P * 0.0j\n",
    "    for ispec in range(nspec + 1):\n",
    "        NGL = NGLL\n",
    "        if ispec == nspec:\n",
    "            NGL = NGRL\n",
    "        \n",
    "        for i in range(NGL):\n",
    "            id = ispec * NGLL + i\n",
    "            p = P[id] * 1. \n",
    "            dx = 0.01\n",
    "            P[id] = p * (1 + dx)\n",
    "            M = assemble_matrix_diag(P,Qp,nspec,NGLL,NGRL,ibool,wgll,wgrl,jaco)\n",
    "            s1 = np.sum(y * M * x)\n",
    "\n",
    "            P[id] = p * (1 - dx)\n",
    "            M = assemble_matrix_diag(P,Qp,nspec,NGLL,NGRL,ibool,wgll,wgrl,jaco)\n",
    "            s2 = np.sum(y * M * x)\n",
    "\n",
    "            dm[id] = (s1 - s2) / (p * dx * 2)\n",
    "\n",
    "            # recover\n",
    "            P[id] = p * 1. \n",
    "    \n",
    "    return dm * coef\n",
    "\n",
    "\n",
    "@jit(nopython=True)\n",
    "def assemble_matrix_diag_deriv(Qp,nspec,NGLL,NGRL,ibool,wgll,wgrl,jaco,x,y,coef):\n",
    "    dM = Qp * 0.0j\n",
    "\n",
    "    # element\n",
    "    xe = np.zeros((NGRL),dtype=np.complex128)\n",
    "    ye = np.zeros((NGRL),dtype=np.complex128)\n",
    "\n",
    "    for ispec in range(nspec + 1):\n",
    "        NGL = NGLL\n",
    "        if ispec == nspec:\n",
    "            wg = wgrl * 1.\n",
    "            NGL = NGRL\n",
    "        else:\n",
    "            wg = wgll * 1.\n",
    "\n",
    "        for i in range(NGL):\n",
    "            ig = ibool[ispec*NGLL+i]\n",
    "            xe[i] = x[ig]\n",
    "            ye[i] = y[ig]\n",
    "\n",
    "        # compute \n",
    "        for k in range(NGL):\n",
    "            sp = get_sls_modulus_factor(1.,Qp[ispec*NGLL+k])\n",
    "            dM[ispec*NGLL+k] =  wg[k] * jaco[ispec] * xe[k] * ye[k] * sp * coef\n",
    "    \n",
    "    return dM"
   ]
  },
  {
   "cell_type": "code",
   "execution_count": 37,
   "metadata": {},
   "outputs": [
    {
     "data": {
      "text/plain": [
       "True"
      ]
     },
     "execution_count": 37,
     "metadata": {},
     "output_type": "execute_result"
    }
   ],
   "source": [
    "# read mesh\n",
    "from scipy.io import FortranFile\n",
    "fio = FortranFile(\"mesh.bin\",\"r\")\n",
    "ibool = fio.read_ints('i4')\n",
    "jaco = fio.read_reals('f8')\n",
    "xN = fio.read_reals('f8')\n",
    "xQN = fio.read_reals('f8')\n",
    "wgll = fio.read_reals('f8')\n",
    "wgrl = fio.read_reals('f8')\n",
    "nspec = len(jaco) - 1\n",
    "NGLL = len(wgll)\n",
    "NGRL = len(wgrl)\n",
    "\n",
    "fio.close()\n",
    "\n",
    "np.random.seed(10)\n",
    "nglob = np.max(ibool) + 1 \n",
    "x = np.random.rand(nglob) + np.random.rand(nglob) * 1.0j\n",
    "y = x * 1.0\n",
    "coef = 1.04 + 0.04j\n",
    "dM = assemble_matrix_diag_fd(xN,xQN,nspec,NGLL,NGRL,ibool,wgll,wgrl,jaco,x,y,coef)\n",
    "dM1 = assemble_matrix_diag_deriv(xQN,nspec,NGLL,NGRL,ibool,wgll,wgrl,jaco,x,y,coef)\n",
    "\n",
    "np.allclose(dM,dM1)"
   ]
  },
  {
   "cell_type": "code",
   "execution_count": 20,
   "metadata": {},
   "outputs": [],
   "source": [
    "import numpy as np \n",
    "from scipy.linalg.lapack import dsygv\n",
    "from scipy.linalg import qz,eigh"
   ]
  },
  {
   "cell_type": "code",
   "execution_count": 3,
   "metadata": {},
   "outputs": [],
   "source": [
    "np.random.seed(5)\n",
    "A = np.random.rand(2,2)\n",
    "A = 0.5 * (A + A.T)\n",
    "B = np.array([[1.,0.5],[0.5,1.2]])"
   ]
  },
  {
   "cell_type": "code",
   "execution_count": 21,
   "metadata": {},
   "outputs": [],
   "source": [
    "w,Z = eigh(A,B)\n",
    "AA,BB,QQ,ZZ = qz(A,B)"
   ]
  },
  {
   "cell_type": "code",
   "execution_count": 23,
   "metadata": {},
   "outputs": [
    {
     "data": {
      "text/plain": [
       "array([[-1.10576244,  0.2011152 ],\n",
       "       [ 0.62408673,  0.81433859]])"
      ]
     },
     "metadata": {},
     "output_type": "display_data"
    },
    {
     "data": {
      "text/plain": [
       "array([[0.78757376, 2.44394418],\n",
       "       [0.78757376, 1.0694194 ]])"
      ]
     },
     "metadata": {},
     "output_type": "display_data"
    }
   ],
   "source": [
    "display(Z)\n",
    "display(ZZ/ Z)"
   ]
  },
  {
   "cell_type": "code",
   "execution_count": 33,
   "metadata": {},
   "outputs": [
    {
     "data": {
      "text/plain": [
       "array([-0.15829405,  0.03909349])"
      ]
     },
     "execution_count": 33,
     "metadata": {},
     "output_type": "execute_result"
    }
   ],
   "source": [
    "A @ ZZ[:,1] - w[1] * B @ ZZ[:,1]"
   ]
  },
  {
   "cell_type": "code",
   "execution_count": 32,
   "metadata": {},
   "outputs": [
    {
     "data": {
      "text/plain": [
       "1.0"
      ]
     },
     "execution_count": 32,
     "metadata": {},
     "output_type": "execute_result"
    }
   ],
   "source": [
    "np.linalg.norm(ZZ[:,0])"
   ]
  },
  {
   "cell_type": "code",
   "execution_count": 35,
   "metadata": {},
   "outputs": [
    {
     "data": {
      "text/plain": [
       "(array([0.59009805, 1.60990195]),\n",
       " array([[-0.77334214,  0.63398891],\n",
       "        [ 0.63398891,  0.77334214]]))"
      ]
     },
     "execution_count": 35,
     "metadata": {},
     "output_type": "execute_result"
    }
   ],
   "source": [
    "eigh(B)"
   ]
  },
  {
   "cell_type": "code",
   "execution_count": null,
   "metadata": {},
   "outputs": [],
   "source": []
  }
 ],
 "metadata": {
  "kernelspec": {
   "display_name": "Python 3",
   "language": "python",
   "name": "python3"
  },
  "language_info": {
   "codemirror_mode": {
    "name": "ipython",
    "version": 3
   },
   "file_extension": ".py",
   "mimetype": "text/x-python",
   "name": "python",
   "nbconvert_exporter": "python",
   "pygments_lexer": "ipython3",
   "version": "3.12.2"
  }
 },
 "nbformat": 4,
 "nbformat_minor": 2
}
